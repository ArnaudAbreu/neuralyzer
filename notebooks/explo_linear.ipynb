{
 "cells": [
  {
   "cell_type": "markdown",
   "metadata": {},
   "source": [
    "## Necessary imports"
   ]
  },
  {
   "cell_type": "code",
   "execution_count": 1,
   "metadata": {},
   "outputs": [],
   "source": [
    "from neuralyzer.datasets import FlatGrayPatchDataset\n",
    "import torch"
   ]
  },
  {
   "cell_type": "markdown",
   "metadata": {},
   "source": [
    "## Constants"
   ]
  },
  {
   "cell_type": "code",
   "execution_count": 2,
   "metadata": {},
   "outputs": [],
   "source": [
    "n_concepts = 16\n",
    "patch_size = 5\n",
    "stride = 1\n",
    "learning_rate = 0.05\n",
    "batch_size = 16\n",
    "init_low = 0\n",
    "init_high = 1\n",
    "n_iterations = 100000\n",
    "image_file = \"/Users/arnaudabreu/Downloads/lenna.png\""
   ]
  },
  {
   "cell_type": "code",
   "execution_count": 3,
   "metadata": {},
   "outputs": [
    {
     "data": {
      "text/plain": [
       "Parameter containing:\n",
       "tensor([[0.3277, 0.5264, 0.6994, 0.0180, 0.1733, 0.7107, 0.5256, 0.1595, 0.6221,\n",
       "         0.7437, 0.1767, 0.3011, 0.3752, 0.0847, 0.9518, 0.2333, 0.7177, 0.3948,\n",
       "         0.9044, 0.5395, 0.5121, 0.8185, 0.6542, 0.5253, 0.4142],\n",
       "        [0.2912, 0.3387, 0.5260, 0.9781, 0.8449, 0.5419, 0.2164, 0.7449, 0.5670,\n",
       "         0.1684, 0.9256, 0.4517, 0.8491, 0.9703, 0.7516, 0.1227, 0.0502, 0.8773,\n",
       "         0.1394, 0.8694, 0.4599, 0.5506, 0.6368, 0.3209, 0.8758],\n",
       "        [0.5969, 0.4926, 0.5387, 0.3322, 0.9971, 0.1146, 0.0499, 0.9972, 0.3089,\n",
       "         0.4214, 0.6596, 0.0917, 0.7985, 0.3145, 0.6645, 0.9215, 0.0394, 0.1482,\n",
       "         0.4692, 0.0715, 0.2882, 0.5973, 0.6956, 0.0330, 0.2837],\n",
       "        [0.0276, 0.2491, 0.4000, 0.6974, 0.4254, 0.1961, 0.5822, 0.2312, 0.7071,\n",
       "         0.9699, 0.5685, 0.1525, 0.4323, 0.2161, 0.4014, 0.5248, 0.5598, 0.5942,\n",
       "         0.6213, 0.0992, 0.3094, 0.7384, 0.3473, 0.6882, 0.5839],\n",
       "        [0.1993, 0.1505, 0.8202, 0.5546, 0.4771, 0.5830, 0.1632, 0.1163, 0.6169,\n",
       "         0.2664, 0.2324, 0.7569, 0.1460, 0.8859, 0.8763, 0.7526, 0.9807, 0.9994,\n",
       "         0.4899, 0.7236, 0.7669, 0.0177, 0.0269, 0.1895, 0.9825],\n",
       "        [0.9842, 0.2748, 0.0444, 0.2878, 0.9426, 0.4312, 0.7070, 0.2623, 0.4441,\n",
       "         0.7066, 0.6208, 0.6647, 0.9011, 0.1486, 0.4788, 0.5133, 0.7667, 0.3156,\n",
       "         0.9035, 0.6955, 0.0776, 0.3134, 0.8632, 0.7351, 0.9458],\n",
       "        [0.5077, 0.1900, 0.0769, 0.9263, 0.6521, 0.2878, 0.9660, 0.7877, 0.8385,\n",
       "         0.0793, 0.6855, 0.1640, 0.5080, 0.7740, 0.3111, 0.3741, 0.1339, 0.2232,\n",
       "         0.2860, 0.3843, 0.4892, 0.2034, 0.4535, 0.2005, 0.0742],\n",
       "        [0.6962, 0.9481, 0.5498, 0.7065, 0.2083, 0.4005, 0.0560, 0.0777, 0.4695,\n",
       "         0.3493, 0.2376, 0.4002, 0.2719, 0.0743, 0.2116, 0.9727, 0.7495, 0.4226,\n",
       "         0.2116, 0.4295, 0.1110, 0.1793, 0.2268, 0.7074, 0.1618],\n",
       "        [0.4838, 0.8828, 0.9506, 0.8609, 0.3056, 0.5085, 0.8914, 0.1992, 0.4505,\n",
       "         0.1676, 0.2296, 0.0870, 0.7206, 0.8536, 0.4898, 0.4183, 0.9993, 0.6937,\n",
       "         0.4541, 0.2163, 0.3095, 0.9522, 0.4910, 0.4263, 0.8892],\n",
       "        [0.9989, 0.9755, 0.3169, 0.6569, 0.8716, 0.2816, 0.5968, 0.5653, 0.7008,\n",
       "         0.2737, 0.6011, 0.6294, 0.3940, 0.6826, 0.3517, 0.9788, 0.3140, 0.9156,\n",
       "         0.3540, 0.0697, 0.9047, 0.1525, 0.8397, 0.7560, 0.4875],\n",
       "        [0.2136, 0.6597, 0.3535, 0.8012, 0.0454, 0.6216, 0.0486, 0.0058, 0.7854,\n",
       "         0.3784, 0.2441, 0.1225, 0.8264, 0.4768, 0.7403, 0.8849, 0.7814, 0.9864,\n",
       "         0.6929, 0.9734, 0.8251, 0.7745, 0.3866, 0.2606, 0.0040],\n",
       "        [0.2924, 0.2189, 0.9378, 0.1275, 0.2204, 0.0431, 0.2049, 0.4455, 0.0803,\n",
       "         0.8887, 0.2662, 0.9349, 0.7431, 0.3095, 0.4225, 0.4843, 0.4771, 0.5797,\n",
       "         0.7907, 0.0661, 0.1990, 0.9815, 0.0147, 0.0724, 0.5626],\n",
       "        [0.6906, 0.7662, 0.1173, 0.3369, 0.3848, 0.9805, 0.3116, 0.6254, 0.4054,\n",
       "         0.6455, 0.6224, 0.7060, 0.9738, 0.7103, 0.7869, 0.7998, 0.8754, 0.3503,\n",
       "         0.9727, 0.0949, 0.6218, 0.0127, 0.4843, 0.8927, 0.3597],\n",
       "        [0.8760, 0.2083, 0.6153, 0.8814, 0.3374, 0.5645, 0.3942, 0.3616, 0.6464,\n",
       "         0.4563, 0.7189, 0.8998, 0.1157, 0.3288, 0.7815, 0.6795, 0.8368, 0.3501,\n",
       "         0.2357, 0.2245, 0.6221, 0.2518, 0.6195, 0.1419, 0.7098],\n",
       "        [0.1192, 0.1994, 0.8208, 0.9853, 0.2505, 0.8968, 0.1429, 0.9332, 0.1544,\n",
       "         0.2996, 0.7029, 0.1292, 0.5042, 0.8326, 0.1052, 0.4626, 0.8581, 0.9464,\n",
       "         0.3474, 0.3084, 0.4114, 0.4381, 0.8269, 0.5772, 0.0817],\n",
       "        [0.1917, 0.0299, 0.7331, 0.8637, 0.2870, 0.0298, 0.5729, 0.7293, 0.3625,\n",
       "         0.1086, 0.5234, 0.1064, 0.2213, 0.2258, 0.4820, 0.5387, 0.5611, 0.2095,\n",
       "         0.2153, 0.3824, 0.3302, 0.7704, 0.9682, 0.9666, 0.9739]],\n",
       "       requires_grad=True)"
      ]
     },
     "execution_count": 3,
     "metadata": {},
     "output_type": "execute_result"
    }
   ],
   "source": [
    "concepts = torch.nn.Linear(in_features=patch_size * patch_size, out_features=n_concepts, bias=False)\n",
    "# initialize the weights of the concepts with random values between init_low and init_high (0 and 1 here to match input value range)\n",
    "torch.nn.init.uniform_(concepts.weight, init_low, init_high)"
   ]
  },
  {
   "cell_type": "markdown",
   "metadata": {},
   "source": [
    "## Data Loader"
   ]
  },
  {
   "cell_type": "code",
   "execution_count": 4,
   "metadata": {},
   "outputs": [],
   "source": [
    "dataset = FlatGrayPatchDataset(patch_size=patch_size, stride=stride, batch_size=batch_size)"
   ]
  },
  {
   "cell_type": "markdown",
   "metadata": {},
   "source": [
    "## WTA implementation as temperature softmax"
   ]
  },
  {
   "cell_type": "code",
   "execution_count": 5,
   "metadata": {},
   "outputs": [],
   "source": [
    "def temperature_softmax(\n",
    "    logits: torch.Tensor,\n",
    "    temperature: float = 1.0\n",
    "):\n",
    "    \"\"\"\n",
    "    Apply a softmax function to the logits with a temperature.\n",
    "    \n",
    "    Args:\n",
    "        logits (torch.Tensor): the input logits\n",
    "        temperature (float): the temperature to apply to the logits\n",
    "        \n",
    "    Returns:\n",
    "        torch.Tensor: the output of the softmax function\n",
    "    \"\"\"\n",
    "    return torch.nn.functional.softmax(logits/temperature, dim=1)\n",
    "\n",
    "def winners_take_all(logits):\n",
    "    \"\"\"\n",
    "    Apply the winners-take-all function to the logits.\n",
    "    \n",
    "    Args:\n",
    "        logits (torch.Tensor): the input logits\n",
    "        \n",
    "    Returns:\n",
    "        torch.Tensor: the output of the winners-take-all function (0 for all values except the maximum)\n",
    "    \"\"\"\n",
    "    logit_max = logits.max(dim=1, keepdim=True).values\n",
    "    wta = torch.where(logits < logit_max, torch.zeros_like(logits), logits)\n",
    "    return wta"
   ]
  },
  {
   "cell_type": "markdown",
   "metadata": {},
   "source": [
    "## Update rule"
   ]
  },
  {
   "cell_type": "code",
   "execution_count": 6,
   "metadata": {},
   "outputs": [],
   "source": [
    "def oja_update_rule(\n",
    "    weights: torch.Tensor,\n",
    "    x: torch.Tensor,\n",
    "    y: torch.Tensor,\n",
    "    learning_rate: float\n",
    "):\n",
    "    \"\"\"\n",
    "    Compute new weights using the Oja update rule.\n",
    "    \n",
    "    Args:\n",
    "        weights (torch.Tensor): The weights of the model with shape (out_features, in_features).\n",
    "        x (torch.Tensor): The input data with shape (batch, in_features).\n",
    "        y (torch.Tensor): The output data with shape (batch, out_features).\n",
    "        learning_rate (float): The learning rate.\n",
    "    \"\"\"\n",
    "    # add a feature dimension to x (to match the weights dimensions)\n",
    "    inputs = x.unsqueeze(1) # (batch, 1, in_features)\n",
    "    # add a feature dimension to y (to match the weights dimensions)\n",
    "    outputs = y.unsqueeze(-1) # (batch, out_features, 1)\n",
    "    # add a batch dimension to the weights (to match the inputs dimensions)\n",
    "    synapses = weights.unsqueeze(0) # (1, out_features, in_features)\n",
    "    # logits to probabilities\n",
    "    z = temperature_softmax(y) # (batch, out_features)\n",
    "    # set non-maximum values to zero in z (anti-Hebbian plasticity)\n",
    "    winners = winners_take_all(z) # (batch, out_features)\n",
    "    # add a feature dimension to z (to match the weights dimensions)\n",
    "    winners = winners.unsqueeze(-1) # (batch, out_features, 1)\n",
    "    # apply the Oja update rule\n",
    "    # synaptic activity. Synapses will learn if the output is active\n",
    "    synaptic_activity = synapses * outputs # (batch, out_features, in_features)\n",
    "    # hebbian error. Active neurons will strengthen the affinity between the inputs and their synaptic weights\n",
    "    error = inputs - synaptic_activity # (batch, out_features, in_features)\n",
    "    delta = learning_rate * winners * error # (batch, out_features, in_features)\n",
    "    updates = synapses + delta # (batch, out_features, in_features\n",
    "    # average the updates over the batch\n",
    "    updated_synapses = updates.mean(dim=0) # (out_features, in_features)\n",
    "    return updated_synapses"
   ]
  },
  {
   "cell_type": "markdown",
   "metadata": {},
   "source": [
    "## Training loop"
   ]
  },
  {
   "cell_type": "code",
   "execution_count": 7,
   "metadata": {},
   "outputs": [
    {
     "name": "stdout",
     "output_type": "stream",
     "text": [
      "Shape of a batch of x: torch.Size([16, 25])\n",
      "Shape of a batch of y: torch.Size([16, 16])\n",
      "Batch number 0\n",
      "First Input: tensor([0.3976, 0.4303, 0.4185, 0.7029, 0.6599, 0.5046, 0.3753, 0.5442, 0.7967,\n",
      "        0.6195, 0.4734, 0.3182, 0.6912, 0.8185, 0.4697, 0.3580, 0.3493, 0.7419,\n",
      "        0.7473, 0.3268, 0.2946, 0.3925, 0.7391, 0.5965, 0.1990])\n",
      "First Output: tensor([6.1615, 7.6476, 5.8927, 6.1312, 6.3732, 7.2433, 5.9374, 4.9398, 7.1851,\n",
      "        7.7909, 6.9154, 5.1749, 7.7227, 6.3184, 6.9033, 5.7371],\n",
      "       grad_fn=<SelectBackward0>)\n"
     ]
    }
   ],
   "source": [
    "loader = dataset.load(image_file)\n",
    "for idx, batch in enumerate(loader):\n",
    "    if idx > n_iterations:\n",
    "        break\n",
    "    x = batch[\"image\"]\n",
    "    y = concepts(x)\n",
    "    if idx == 0:\n",
    "        print(f\"Shape of a batch of x: {x.shape}\")\n",
    "        print(f\"Shape of a batch of y: {y.shape}\")\n",
    "        print(f\"Batch number {idx}\")\n",
    "        print(f\"First Input: {x[0]}\")\n",
    "        print(f\"First Output: {y[0]}\")\n",
    "    # update the weights\n",
    "    with torch.no_grad():\n",
    "        w_updated = oja_update_rule(concepts.weight, x, y, learning_rate)\n",
    "        concepts.weight.data = w_updated"
   ]
  },
  {
   "cell_type": "code",
   "execution_count": 8,
   "metadata": {},
   "outputs": [],
   "source": [
    "# input tensor (x) shape: (batch, in_features)\n",
    "# weight tensor (concepts.weight) shape: (out_features, in_features)\n",
    "# output tensor shape: (batch, out_features)\n",
    "\n",
    "# \"repeat\" way of doing things\n",
    "# repeated_weights = einops.repeat(concepts.weight, 'o i -> b o i', b=32)\n",
    "# test_repeated = repeated_weights * y.unsqueeze(-1)\n",
    "# \"unsqueeze\" way of doing things\n",
    "# test_unsqueezed = concepts.weight.unsqueeze(0) * y.unsqueeze(-1)\n",
    "\n",
    "# check that the test_repeated and test_unsqueezed are the same\n",
    "# print(torch.allclose(test_repeated, test_unsqueezed))\n",
    "# display the shapes of the repeated weights\n",
    "# print(repeated_weights.shape)\n"
   ]
  },
  {
   "cell_type": "code",
   "execution_count": 9,
   "metadata": {},
   "outputs": [
    {
     "data": {
      "image/png": "[encoded data removed]",
      "text/plain": [
       "<Figure size 1000x1000 with 16 Axes>"
      ]
     },
     "metadata": {},
     "output_type": "display_data"
    }
   ],
   "source": [
    "# plot concepts\n",
    "import matplotlib.pyplot as plt\n",
    "import numpy as np\n",
    "\n",
    "n_size = int(np.sqrt(n_concepts))\n",
    "\n",
    "fig, axs = plt.subplots(n_size, n_size, figsize=(10, 10))\n",
    "for i in range(n_concepts):\n",
    "    ax = axs[i//n_size, i%n_size]\n",
    "    ax.imshow(concepts.weight[i].detach().numpy().reshape(patch_size, patch_size), cmap=\"gray\")\n",
    "    ax.axis(\"off\")\n",
    "    ax.set_title(f\"Concept {i}\")"
   ]
  },
  {
   "cell_type": "code",
   "execution_count": null,
   "metadata": {},
   "outputs": [],
   "source": []
  }
 ],
 "metadata": {
  "kernelspec": {
   "display_name": ".venv",
   "language": "python",
   "name": "python3"
  },
  "language_info": {
   "codemirror_mode": {
    "name": "ipython",
    "version": 3
   },
   "file_extension": ".py",
   "mimetype": "text/x-python",
   "name": "python",
   "nbconvert_exporter": "python",
   "pygments_lexer": "ipython3",
   "version": "3.10.14"
  }
 },
 "nbformat": 4,
 "nbformat_minor": 2
}
